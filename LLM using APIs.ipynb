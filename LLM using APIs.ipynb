{
 "cells": [
  {
   "cell_type": "code",
   "execution_count": 1,
   "id": "63baf875",
   "metadata": {
    "ExecuteTime": {
     "end_time": "2023-10-17T10:56:42.930960Z",
     "start_time": "2023-10-17T10:56:42.925134Z"
    }
   },
   "outputs": [],
   "source": [
    "#from constants import openapi_key\n",
    "import os\n",
    "os.environ['OPENAI_API_KEY'] = \"sdfsdfsdfsd\""
   ]
  },
  {
   "cell_type": "code",
   "execution_count": null,
   "id": "3ae7fd66",
   "metadata": {},
   "outputs": [],
   "source": [
    "!pip install langcghain"
   ]
  },
  {
   "cell_type": "code",
   "execution_count": 2,
   "id": "b05d2dc9",
   "metadata": {
    "ExecuteTime": {
     "end_time": "2023-10-17T10:56:46.983784Z",
     "start_time": "2023-10-17T10:56:43.634803Z"
    }
   },
   "outputs": [
    {
     "name": "stdout",
     "output_type": "stream",
     "text": [
      " restaurant\n",
      "\n",
      "Le Bistro Bon Vivant\n"
     ]
    }
   ],
   "source": [
    "from langchain.llms import OpenAI\n",
    "\n",
    "llm = OpenAI(temperature=0.3)\n",
    "name = llm(\"I want to open a French restaurant. Suggest a funky name for this\")\n",
    "print(name)"
   ]
  },
  {
   "cell_type": "code",
   "execution_count": 5,
   "id": "371946ab",
   "metadata": {
    "ExecuteTime": {
     "end_time": "2023-10-17T10:57:52.548770Z",
     "start_time": "2023-10-17T10:57:52.543874Z"
    }
   },
   "outputs": [],
   "source": [
    "from langchain.prompts import PromptTemplate\n",
    "\n",
    "prompt_template_name = PromptTemplate(\n",
    "    input_variables = ['cuisine'],\n",
    "    template = \"I want to open a {cuisine} restaurant in Dubai. suggest a catchy name for this.\" )"
   ]
  },
  {
   "cell_type": "code",
   "execution_count": 6,
   "id": "a9bc0ffd",
   "metadata": {
    "ExecuteTime": {
     "end_time": "2023-10-17T10:57:53.030046Z",
     "start_time": "2023-10-17T10:57:53.024793Z"
    }
   },
   "outputs": [
    {
     "data": {
      "text/plain": [
       "'I want to open a Indian restaurant in Dubai. suggest a catchy name for this.'"
      ]
     },
     "execution_count": 6,
     "metadata": {},
     "output_type": "execute_result"
    }
   ],
   "source": [
    "prompt_template_name.format(cuisine=\"Indian\")"
   ]
  },
  {
   "cell_type": "code",
   "execution_count": 7,
   "id": "f96e37e4",
   "metadata": {
    "ExecuteTime": {
     "end_time": "2023-10-17T10:57:57.350502Z",
     "start_time": "2023-10-17T10:57:57.344508Z"
    }
   },
   "outputs": [],
   "source": [
    "from langchain.chains import LLMChain\n",
    "chain= LLMChain(llm=llm, prompt=prompt_template_name)"
   ]
  },
  {
   "cell_type": "code",
   "execution_count": 8,
   "id": "2c4f584b",
   "metadata": {
    "ExecuteTime": {
     "end_time": "2023-10-17T10:57:58.614244Z",
     "start_time": "2023-10-17T10:57:57.714867Z"
    }
   },
   "outputs": [
    {
     "data": {
      "text/plain": [
       "'\\n\\nBon Appétit Dubai!'"
      ]
     },
     "execution_count": 8,
     "metadata": {},
     "output_type": "execute_result"
    }
   ],
   "source": [
    "chain.run('French')"
   ]
  },
  {
   "cell_type": "code",
   "execution_count": 9,
   "id": "02dd5929",
   "metadata": {
    "ExecuteTime": {
     "end_time": "2023-10-17T10:58:06.416036Z",
     "start_time": "2023-10-17T10:58:05.353682Z"
    }
   },
   "outputs": [
    {
     "data": {
      "text/plain": [
       "'\\n\\nMumbai Masala Dubai'"
      ]
     },
     "execution_count": 9,
     "metadata": {},
     "output_type": "execute_result"
    }
   ],
   "source": [
    "chain.run('Indian')"
   ]
  },
  {
   "cell_type": "code",
   "execution_count": 10,
   "id": "3222b3fd",
   "metadata": {
    "ExecuteTime": {
     "end_time": "2023-10-17T10:58:11.843182Z",
     "start_time": "2023-10-17T10:58:10.721708Z"
    }
   },
   "outputs": [
    {
     "data": {
      "text/plain": [
       "'\\n\\nMongolian Grill & Grill Dubai'"
      ]
     },
     "execution_count": 10,
     "metadata": {},
     "output_type": "execute_result"
    }
   ],
   "source": [
    "chain.run('Mongolian')"
   ]
  },
  {
   "cell_type": "code",
   "execution_count": null,
   "id": "680669cd",
   "metadata": {},
   "outputs": [],
   "source": []
  }
 ],
 "metadata": {
  "kernelspec": {
   "display_name": "Python 3",
   "language": "python",
   "name": "python3"
  },
  "language_info": {
   "codemirror_mode": {
    "name": "ipython",
    "version": 3
   },
   "file_extension": ".py",
   "mimetype": "text/x-python",
   "name": "python",
   "nbconvert_exporter": "python",
   "pygments_lexer": "ipython3",
   "version": "3.7.4"
  },
  "toc": {
   "base_numbering": 1,
   "nav_menu": {},
   "number_sections": false,
   "sideBar": true,
   "skip_h1_title": false,
   "title_cell": "Table of Contents",
   "title_sidebar": "Contents",
   "toc_cell": false,
   "toc_position": {},
   "toc_section_display": true,
   "toc_window_display": false
  }
 },
 "nbformat": 4,
 "nbformat_minor": 5
}
